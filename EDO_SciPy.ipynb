{
 "cells": [
  {
   "cell_type": "markdown",
   "id": "a836bea1",
   "metadata": {},
   "source": [
    "# Ecuaciones Diferenciales Ordinarias con SciPy"
   ]
  },
  {
   "cell_type": "markdown",
   "id": "6faccde3",
   "metadata": {},
   "source": [
    "## Ejemplo: Concentración de sal en un tanque\n",
    "\n",
    "Encuentre la ecuación diferencial para la sal acumulada en untanque para cualquier tiempo. La concentración de sal es la masa de sal por unidad de volumen de la mezcla. Suponer que $c_{in}(t)$ es la razón a la que ingresa sal en el tanque y la razón a la que sale es $10c_{in}(t)$."
   ]
  },
  {
   "cell_type": "markdown",
   "id": "c5a33697",
   "metadata": {},
   "source": [
    "La ecuación derivada de la Ley de Balance es:\n",
    "\n",
    "\\begin{align}\n",
    "\\frac{dS}{dt} = 10 c_{in}(t) -\\frac{1}{10} S(t)\n",
    "\\end{align}\n",
    "\n",
    "La solución exacta es:\n",
    "\\begin{align}\n",
    "S(t) = s_0 e^{\\frac{-t}{10}} + 10e^{\\frac{-t}{10}}\\int_0^t c_{in}(s)e^{\\frac{s}{10}} ds ,\n",
    "\\end{align}\n",
    "donde $s_0$ es la condición inicial y $c_{in}(t)$ es una función del tiempo. "
   ]
  },
  {
   "cell_type": "markdown",
   "id": "a5139f30",
   "metadata": {},
   "source": [
    "Resolvamos el problema numericamente con $s_0 = 0.3$ and $c_{in}(t) = 0.1$."
   ]
  },
  {
   "cell_type": "code",
   "execution_count": null,
   "id": "96a2da06",
   "metadata": {},
   "outputs": [],
   "source": [
    "import numpy as np\n",
    "import matplotlib.pyplot as plt\n",
    "from scipy.integrate import odeint"
   ]
  },
  {
   "cell_type": "code",
   "execution_count": null,
   "id": "2868b95c",
   "metadata": {},
   "outputs": [],
   "source": [
    "# t\n",
    "t = np.linspace(0, 5, 200)\n",
    "\n",
    "# condición inicial\n",
    "S0 = 0.3\n",
    "\n",
    "# Constant\n",
    "cin = 0.1"
   ]
  },
  {
   "cell_type": "code",
   "execution_count": null,
   "id": "e6ed61b1",
   "metadata": {},
   "outputs": [],
   "source": [
    "# definimos la funcion\n",
    "\n",
    "def fn(S, t, cin):\n",
    "    return 10*cin - S/10"
   ]
  },
  {
   "cell_type": "code",
   "execution_count": null,
   "id": "056d0e26",
   "metadata": {},
   "outputs": [],
   "source": [
    "# Solución numérica\n",
    "\n",
    "S_num = odeint(fn, S0, t, args=(cin,))"
   ]
  },
  {
   "cell_type": "code",
   "execution_count": null,
   "id": "7c7aba14",
   "metadata": {},
   "outputs": [],
   "source": [
    "# Solución analítica\n",
    "\n",
    "S_exact = S0 * np.exp(-t/10) + 100*cin*(1-np.exp(-t/10))"
   ]
  },
  {
   "cell_type": "code",
   "execution_count": null,
   "id": "da0a2a07",
   "metadata": {},
   "outputs": [],
   "source": [
    "fig, axs = plt.subplots(1, 2, figsize=(16, 6))\n",
    "axs[0].plot(t, S_num, label=\"solución numérica\", c=\"black\")\n",
    "axs[1].plot(t, S_exact, label=\"solución exacta\", c=\"black\")\n",
    "axs[0].set_title(\"solución numérica\")\n",
    "axs[1].set_title(\"solución exacta\")\n",
    "plt.show()"
   ]
  },
  {
   "cell_type": "markdown",
   "id": "8e4e60fc",
   "metadata": {},
   "source": [
    "#### ¿Cuál es el efecto de la condición inicial?"
   ]
  },
  {
   "cell_type": "markdown",
   "id": "45d9a7ea",
   "metadata": {},
   "source": [
    "#### Suponga funciones del tiempo para $c_{in}$ y grafique\n",
    "\n",
    "En particular, considere $c_{in}(t)=0.2 + 0.1 sen t$."
   ]
  },
  {
   "cell_type": "markdown",
   "id": "340e5b3a",
   "metadata": {},
   "source": [
    "## Ejercicio\n",
    "\n",
    "Encuentre la ecuación diferencial para la concentración de un contaminante en un lago.\n",
    "\n",
    "Suponga que $C(t)$ es la concentración del contaminante en el lago al tiempo $t$ y sea $F$ la razón a la que el agua fluye en el lago en $m^3/día$."
   ]
  },
  {
   "cell_type": "code",
   "execution_count": null,
   "id": "83999445",
   "metadata": {},
   "outputs": [],
   "source": []
  },
  {
   "cell_type": "markdown",
   "id": "ed4d0d7f",
   "metadata": {},
   "source": [
    "# Solución mediante cálculo simbólico"
   ]
  },
  {
   "cell_type": "code",
   "execution_count": null,
   "id": "e92bc606",
   "metadata": {},
   "outputs": [],
   "source": [
    "import numpy as np"
   ]
  },
  {
   "cell_type": "code",
   "execution_count": null,
   "id": "5c0e52b5",
   "metadata": {},
   "outputs": [],
   "source": [
    "%matplotlib inline\n",
    "%config InlineBackend.figure_format='retina'\n",
    "import matplotlib.pyplot as plt\n",
    "import matplotlib as mpl\n",
    "# mpl.rcParams['text.usetex'] = True\n",
    "mpl.rcParams['mathtext.fontset'] = 'stix'\n",
    "mpl.rcParams['font.family'] = 'serif'\n",
    "mpl.rcParams['font.sans-serif'] = 'stix'"
   ]
  },
  {
   "cell_type": "code",
   "execution_count": null,
   "id": "cb575201",
   "metadata": {},
   "outputs": [],
   "source": [
    "import sympy\n",
    "sympy.init_printing()"
   ]
  },
  {
   "cell_type": "code",
   "execution_count": null,
   "id": "57239424",
   "metadata": {},
   "outputs": [],
   "source": [
    "from scipy import integrate"
   ]
  },
  {
   "cell_type": "markdown",
   "id": "4d0e9b73",
   "metadata": {},
   "source": [
    "### Ejemplo: Ley de enfriamiento de Newton"
   ]
  },
  {
   "cell_type": "markdown",
   "id": "5b7a6bef",
   "metadata": {},
   "source": [
    "La Ley de enfriamiento de Newton es:\n",
    "\n",
    "$$\\frac{dT(t)}{dt} = k \\Big( T(t) - T_a \\Big) $$\n",
    "\n",
    "donde $T(t)$ es la temperatura de un cuerpo y $T_a$ es la temperatura del ambiente a su alrededor.\n",
    "Para resolver esta ecuación con scipy procedemos como sigue:"
   ]
  },
  {
   "cell_type": "code",
   "execution_count": null,
   "id": "4c81fc1d",
   "metadata": {},
   "outputs": [],
   "source": [
    "# Primero definimos los simbolos y representamos la función desconocida.\n",
    "t, k, T0, Ta = sympy.symbols(\"t, k, T_0, T_a\")\n",
    "T = sympy.Function(\"T\")"
   ]
  },
  {
   "cell_type": "code",
   "execution_count": null,
   "id": "3521268e",
   "metadata": {},
   "outputs": [],
   "source": [
    "# Definimos la ecuación a resolver:\n",
    "ode = T(t).diff(t) + k*(T(t) - Ta)"
   ]
  },
  {
   "cell_type": "code",
   "execution_count": null,
   "id": "86b0203f",
   "metadata": {},
   "outputs": [],
   "source": [
    "ode"
   ]
  },
  {
   "cell_type": "code",
   "execution_count": null,
   "id": "f587fc03",
   "metadata": {},
   "outputs": [],
   "source": [
    "# Resolvemos para hallar la solución general:\n",
    "ode_sol = sympy.dsolve(ode)"
   ]
  },
  {
   "cell_type": "code",
   "execution_count": null,
   "id": "bd39cdfd",
   "metadata": {},
   "outputs": [],
   "source": [
    "ode_sol "
   ]
  },
  {
   "cell_type": "code",
   "execution_count": null,
   "id": "fc117249",
   "metadata": {},
   "outputs": [],
   "source": [
    "# Se pueden referir los dos lados de la solución:\n",
    "ode_sol.lhs"
   ]
  },
  {
   "cell_type": "code",
   "execution_count": null,
   "id": "9ffd8063",
   "metadata": {},
   "outputs": [],
   "source": [
    "ode_sol.rhs"
   ]
  },
  {
   "cell_type": "code",
   "execution_count": null,
   "id": "50a20da5",
   "metadata": {},
   "outputs": [],
   "source": [
    "# Se proporcionan los valores iniciale smediante un diccionario clave-valor\n",
    "ics = {T(0): T0}"
   ]
  },
  {
   "cell_type": "code",
   "execution_count": null,
   "id": "fb9f9bc4",
   "metadata": {},
   "outputs": [],
   "source": [
    "ics"
   ]
  },
  {
   "cell_type": "code",
   "execution_count": null,
   "id": "2c418aab",
   "metadata": {},
   "outputs": [],
   "source": [
    "# Y resolver con condiciones iniciales:\n",
    "C_eq = ode_sol.subs(t, 0).subs(ics)"
   ]
  },
  {
   "cell_type": "code",
   "execution_count": null,
   "id": "f117bee1",
   "metadata": {},
   "outputs": [],
   "source": [
    "C_eq"
   ]
  },
  {
   "cell_type": "code",
   "execution_count": null,
   "id": "09e92d76",
   "metadata": {},
   "outputs": [],
   "source": [
    "# Se resuelve la ecuación anterior para determinar la constante de integración\n",
    "C_sol = sympy.solve(C_eq)"
   ]
  },
  {
   "cell_type": "code",
   "execution_count": null,
   "id": "a03cd701",
   "metadata": {},
   "outputs": [],
   "source": [
    "C_sol"
   ]
  },
  {
   "cell_type": "code",
   "execution_count": null,
   "id": "820a1b78",
   "metadata": {},
   "outputs": [],
   "source": [
    "ode_sol.subs(C_sol[0])"
   ]
  },
  {
   "cell_type": "code",
   "execution_count": null,
   "id": "ea1922a0",
   "metadata": {},
   "outputs": [],
   "source": []
  },
  {
   "cell_type": "markdown",
   "id": "c8148444",
   "metadata": {},
   "source": [
    "Se puede resolver para diferentes valores de los parámetros de manera concisa y graficar las soluciones."
   ]
  },
  {
   "cell_type": "code",
   "execution_count": null,
   "id": "0b151522",
   "metadata": {},
   "outputs": [],
   "source": [
    "def apply_ics(sol, ics, x, known_params):\n",
    "\n",
    "    free_params = sol.free_symbols - set(known_params)\n",
    "    eqs = [(sol.lhs.diff(x, n) - sol.rhs.diff(x, n)).subs(x, 0).subs(ics)\n",
    "           for n in range(len(ics))]\n",
    "    sol_params = sympy.solve(eqs, free_params)\n",
    "    return sol.subs(sol_params)"
   ]
  },
  {
   "cell_type": "code",
   "execution_count": null,
   "id": "26c52d09",
   "metadata": {},
   "outputs": [],
   "source": [
    "ode_sol"
   ]
  },
  {
   "cell_type": "code",
   "execution_count": null,
   "id": "333ce826",
   "metadata": {},
   "outputs": [],
   "source": [
    "apply_ics(ode_sol, ics, t, [k, Ta])"
   ]
  },
  {
   "cell_type": "code",
   "execution_count": null,
   "id": "7bf676c1",
   "metadata": {},
   "outputs": [],
   "source": [
    "ode_sol = apply_ics(ode_sol, ics, t, [k, Ta]).simplify()"
   ]
  },
  {
   "cell_type": "code",
   "execution_count": null,
   "id": "1911e033",
   "metadata": {},
   "outputs": [],
   "source": [
    "ode_sol"
   ]
  },
  {
   "cell_type": "code",
   "execution_count": null,
   "id": "9e03822f",
   "metadata": {},
   "outputs": [],
   "source": [
    "y_x = sympy.lambdify((t, k), ode_sol.rhs.subs({T0: 5, Ta: 1}), 'numpy')"
   ]
  },
  {
   "cell_type": "code",
   "execution_count": null,
   "id": "d23222a7",
   "metadata": {},
   "outputs": [],
   "source": [
    "fig, ax = plt.subplots(figsize=(8, 4))\n",
    "\n",
    "x = np.linspace(0, 4, 100)\n",
    "\n",
    "for k in [1, 2, 3]:\n",
    "    ax.plot(x, y_x(x, k), label=r\"$k=%d$\" % k)\n",
    "\n",
    "ax.set_title(r\"$%s$\" % sympy.latex(ode_sol), fontsize=18)\n",
    "ax.set_xlabel(r\"$x$\", fontsize=18)\n",
    "ax.set_ylabel(r\"$y$\", fontsize=18)\n",
    "ax.legend()\n",
    "\n",
    "fig.tight_layout()"
   ]
  },
  {
   "cell_type": "markdown",
   "id": "777a9537",
   "metadata": {},
   "source": [
    "### Ejercicio: Resolver simbólicamente la ecuación de la concentración de sal en el tanque y el modelo del lago, y graficas."
   ]
  },
  {
   "cell_type": "code",
   "execution_count": null,
   "id": "c4b31e8d",
   "metadata": {},
   "outputs": [],
   "source": []
  }
 ],
 "metadata": {
  "kernelspec": {
   "display_name": "Python 3 (ipykernel)",
   "language": "python",
   "name": "python3"
  },
  "language_info": {
   "codemirror_mode": {
    "name": "ipython",
    "version": 3
   },
   "file_extension": ".py",
   "mimetype": "text/x-python",
   "name": "python",
   "nbconvert_exporter": "python",
   "pygments_lexer": "ipython3",
   "version": "3.7.3"
  }
 },
 "nbformat": 4,
 "nbformat_minor": 5
}
