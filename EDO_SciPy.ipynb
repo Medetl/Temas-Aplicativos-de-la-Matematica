{
 "cells": [
  {
   "cell_type": "markdown",
   "id": "a836bea1",
   "metadata": {},
   "source": [
    "# Ecuaciones Diferenciales Ordinarias con SciPy"
   ]
  },
  {
   "cell_type": "markdown",
   "id": "6faccde3",
   "metadata": {},
   "source": [
    "## Ejemplo: Concentración de sal en un tanque\n",
    "\n",
    "Encuentre la ecuación diferencial para la sal acumulada en untanque para cualquier tiempo. La concentración de sal es la masa de sal por unidad de volumen de la mezcla. Suponer que $c_{in}(t)$ es la razón a la que ingresa sal en el tanque y la razón a la que sale es $10c_{in}(t)$."
   ]
  },
  {
   "cell_type": "markdown",
   "id": "c5a33697",
   "metadata": {},
   "source": [
    "La ecuación derivada de la Ley de Balance es:\n",
    "\n",
    "\\begin{align}\n",
    "\\frac{dS}{dt} = 10 c_{in}(t) -\\frac{1}{10} S(t)\n",
    "\\end{align}\n",
    "\n",
    "La solución exacta es:\n",
    "\\begin{align}\n",
    "S(t) = s_0 e^{\\frac{-t}{10}} + 10e^{\\frac{-t}{10}}\\int_0^t c_{in}(s)e^{\\frac{s}{10}} ds ,\n",
    "\\end{align}\n",
    "donde $s_0$ es la condición inicial y $c_{in}(t)$ es una función del tiempo. "
   ]
  },
  {
   "cell_type": "markdown",
   "id": "a5139f30",
   "metadata": {},
   "source": [
    "Resolvamos el problema numericamente con $s_0 = 0.3$ and $c_{in}(t) = 0.1$."
   ]
  },
  {
   "cell_type": "code",
   "execution_count": null,
   "id": "96a2da06",
   "metadata": {},
   "outputs": [],
   "source": [
    "import numpy as np\n",
    "import matplotlib.pyplot as plt\n",
    "from scipy.integrate import odeint"
   ]
  },
  {
   "cell_type": "code",
   "execution_count": null,
   "id": "2868b95c",
   "metadata": {},
   "outputs": [],
   "source": [
    "# t\n",
    "t = np.linspace(0, 5, 200)\n",
    "\n",
    "# condición inicial\n",
    "S0 = 0.3\n",
    "\n",
    "# Constant\n",
    "cin = 0.1"
   ]
  },
  {
   "cell_type": "code",
   "execution_count": null,
   "id": "e6ed61b1",
   "metadata": {},
   "outputs": [],
   "source": [
    "# definimos la funcion\n",
    "\n",
    "def fn(S, t, cin):\n",
    "    return 10*cin - S/10"
   ]
  },
  {
   "cell_type": "code",
   "execution_count": null,
   "id": "056d0e26",
   "metadata": {},
   "outputs": [],
   "source": [
    "# Solución numérica\n",
    "\n",
    "S_num = odeint(fn, S0, t, args=(cin,))"
   ]
  },
  {
   "cell_type": "code",
   "execution_count": null,
   "id": "7c7aba14",
   "metadata": {},
   "outputs": [],
   "source": [
    "# Solución analítica\n",
    "\n",
    "S_exact = S0 * np.exp(-t/10) + 100*cin*(1-np.exp(-t/10))"
   ]
  },
  {
   "cell_type": "code",
   "execution_count": null,
   "id": "da0a2a07",
   "metadata": {},
   "outputs": [],
   "source": [
    "fig, axs = plt.subplots(1, 2, figsize=(16, 6))\n",
    "axs[0].plot(t, S_num, label=\"solución numérica\", c=\"black\")\n",
    "axs[1].plot(t, S_exact, label=\"solución exacta\", c=\"black\")\n",
    "axs[0].set_title(\"solución numérica\")\n",
    "axs[1].set_title(\"solución exacta\")\n",
    "plt.show()"
   ]
  },
  {
   "cell_type": "markdown",
   "id": "8e4e60fc",
   "metadata": {},
   "source": [
    "#### ¿Cuál es el efecto de la condición inicial?"
   ]
  },
  {
   "cell_type": "markdown",
   "id": "45d9a7ea",
   "metadata": {},
   "source": [
    "#### Suponga funciones del tiempo para $c_{in}$ y grafique\n",
    "\n",
    "En particular, considere $c_{in}(t)=0.2 + 0.1 sen t$."
   ]
  },
  {
   "cell_type": "markdown",
   "id": "340e5b3a",
   "metadata": {},
   "source": [
    "## Ejercicio\n",
    "\n",
    "Encuentre la ecuación diferencial para la concentración de un contaminante en un lago.\n",
    "\n",
    "Suponga que $C(t)$ es la concentración del contaminante en el lago al tiempo $t$ y sea $F$ la razón a la que el agua fluye en el lago en $m^3/día$."
   ]
  },
  {
   "cell_type": "code",
   "execution_count": null,
   "id": "83999445",
   "metadata": {},
   "outputs": [],
   "source": []
  }
 ],
 "metadata": {
  "kernelspec": {
   "display_name": "Python 3 (ipykernel)",
   "language": "python",
   "name": "python3"
  },
  "language_info": {
   "codemirror_mode": {
    "name": "ipython",
    "version": 3
   },
   "file_extension": ".py",
   "mimetype": "text/x-python",
   "name": "python",
   "nbconvert_exporter": "python",
   "pygments_lexer": "ipython3",
   "version": "3.7.3"
  }
 },
 "nbformat": 4,
 "nbformat_minor": 5
}
