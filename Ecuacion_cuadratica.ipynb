{
 "cells": [
  {
   "cell_type": "code",
   "execution_count": 1,
   "id": "8f67a705",
   "metadata": {},
   "outputs": [],
   "source": [
    "import sympy as sp"
   ]
  },
  {
   "cell_type": "code",
   "execution_count": 2,
   "id": "9ce0d8e5",
   "metadata": {},
   "outputs": [],
   "source": [
    "x = sp.Symbol('x')"
   ]
  },
  {
   "cell_type": "code",
   "execution_count": 6,
   "id": "06506740",
   "metadata": {},
   "outputs": [],
   "source": [
    "ecuacion=sp.Eq(x*x + 0.69065*x + 1.85839,0)"
   ]
  },
  {
   "cell_type": "code",
   "execution_count": 7,
   "id": "4ddf7d32",
   "metadata": {},
   "outputs": [
    {
     "data": {
      "text/latex": [
       "$\\displaystyle x^{2} + 0.69065 x + 1.85839 = 0$"
      ],
      "text/plain": [
       "Eq(x**2 + 0.69065*x + 1.85839, 0)"
      ]
     },
     "execution_count": 7,
     "metadata": {},
     "output_type": "execute_result"
    }
   ],
   "source": [
    "ecuacion"
   ]
  },
  {
   "cell_type": "code",
   "execution_count": 8,
   "id": "6ac6a8d8",
   "metadata": {},
   "outputs": [],
   "source": [
    "solucion=sp.solve(ecuacion,x)"
   ]
  },
  {
   "cell_type": "code",
   "execution_count": 9,
   "id": "9465abd1",
   "metadata": {},
   "outputs": [
    {
     "data": {
      "text/plain": [
       "[-0.345325 - 1.31876481768926*I, -0.345325 + 1.31876481768926*I]"
      ]
     },
     "execution_count": 9,
     "metadata": {},
     "output_type": "execute_result"
    }
   ],
   "source": [
    "solucion"
   ]
  },
  {
   "cell_type": "code",
   "execution_count": null,
   "id": "ef2593b4",
   "metadata": {},
   "outputs": [],
   "source": []
  }
 ],
 "metadata": {
  "kernelspec": {
   "display_name": "Python 3 (ipykernel)",
   "language": "python",
   "name": "python3"
  },
  "language_info": {
   "codemirror_mode": {
    "name": "ipython",
    "version": 3
   },
   "file_extension": ".py",
   "mimetype": "text/x-python",
   "name": "python",
   "nbconvert_exporter": "python",
   "pygments_lexer": "ipython3",
   "version": "3.7.3"
  }
 },
 "nbformat": 4,
 "nbformat_minor": 5
}
